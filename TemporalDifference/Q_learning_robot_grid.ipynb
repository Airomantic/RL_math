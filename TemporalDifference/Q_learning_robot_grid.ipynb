{
 "cells": [
  {
   "cell_type": "code",
   "execution_count": 21,
   "metadata": {},
   "outputs": [],
   "source": [
    "import numpy as np\n",
    "import random\n",
    "\n",
    "class GridWorld:\n",
    "    def __init__(self, size=4):\n",
    "        self.size = size\n",
    "        self.states = [(i, j) for i in range(size) for j in range(size)]\n",
    "        self.actions = ['up', 'down', 'left', 'right']\n",
    "        self.rewards = np.zeros((size, size))\n",
    "        self.rewards[size-1, size-1] = 1  # 终点奖励\n",
    "\n",
    "    def is_terminal(self, state):\n",
    "        return state == (self.size-1, self.size-1)\n",
    "\n",
    "    def next_state(self, state, action):\n",
    "        i, j = state\n",
    "        if action == 'up':\n",
    "            next_state = (max(i-1, 0), j)\n",
    "        elif action == 'down':\n",
    "            next_state = (min(i+1, self.size-1), j)\n",
    "        elif action == 'left':\n",
    "            next_state = (i, max(j-1, 0))\n",
    "        elif action == 'right':\n",
    "            next_state = (i, min(j+1, self.size-1))\n",
    "        return next_state\n"
   ]
  },
  {
   "cell_type": "code",
   "execution_count": 22,
   "metadata": {},
   "outputs": [],
   "source": [
    "def q_learning(env, num_episodes=500, alpha=0.1, gamma=0.9, epsilon=0.1):\n",
    "    Q = {}\n",
    "    for state in env.states:\n",
    "        Q[state] = {action: 0.0 for action in env.actions}\n",
    "\n",
    "    for episode in range(num_episodes):\n",
    "        state = random.choice(env.states)\n",
    "        while not env.is_terminal(state):\n",
    "            if random.uniform(0, 1) < epsilon:\n",
    "                action = random.choice(env.actions)\n",
    "            else:\n",
    "                action = max(Q[state], key=Q[state].get)\n",
    "\n",
    "            next_state = env.next_state(state, action)\n",
    "            reward = env.rewards[next_state]\n",
    "\n",
    "            next_action = max(Q[next_state], key=Q[next_state].get)\n",
    "            td_target = reward + gamma * Q[next_state][next_action]\n",
    "            td_delta = td_target - Q[state][action]\n",
    "            Q[state][action] += alpha * td_delta\n",
    "\n",
    "            state = next_state\n",
    "\n",
    "    return Q\n"
   ]
  },
  {
   "cell_type": "code",
   "execution_count": 23,
   "metadata": {},
   "outputs": [
    {
     "name": "stdout",
     "output_type": "stream",
     "text": [
      "最优策略:\n",
      "right right right down \n",
      "up up up down \n",
      "up up up down \n",
      "up up up 终点 \n"
     ]
    }
   ],
   "source": [
    "env = GridWorld()\n",
    "Q = q_learning(env)\n",
    "\n",
    "# 提取最优策略\n",
    "def extract_policy(Q):\n",
    "    policy = {}\n",
    "    for state in Q:\n",
    "        policy[state] = max(Q[state], key=Q[state].get)\n",
    "    return policy\n",
    "\n",
    "optimal_policy = extract_policy(Q)\n",
    "\n",
    "print(\"最优策略:\")\n",
    "for i in range(env.size):\n",
    "    for j in range(env.size):\n",
    "        state = (i, j)\n",
    "        if env.is_terminal(state):\n",
    "            print(\"终点\", end=\" \")\n",
    "        else:\n",
    "            print(optimal_policy[state], end=\" \")\n",
    "    print()\n"
   ]
  },
  {
   "cell_type": "code",
   "execution_count": 24,
   "metadata": {},
   "outputs": [
    {
     "name": "stdout",
     "output_type": "stream",
     "text": [
      "机器人从起点到终点的路径:\n",
      "[(0, 0), (0, 1), (0, 2), (0, 3), (1, 3), (2, 3), (3, 3)]\n"
     ]
    }
   ],
   "source": [
    "def test_policy(env, policy):\n",
    "    state = (0, 0)\n",
    "    path = [state]\n",
    "    while not env.is_terminal(state):\n",
    "        action = policy[state]\n",
    "        state = env.next_state(state, action)\n",
    "        path.append(state)\n",
    "    return path\n",
    "\n",
    "path = test_policy(env, optimal_policy)\n",
    "print(\"机器人从起点到终点的路径:\")\n",
    "print(path)\n"
   ]
  },
  {
   "cell_type": "code",
   "execution_count": 36,
   "metadata": {},
   "outputs": [
    {
     "data": {
      "image/png": "[encoded data removed]",
      "text/plain": [
       "<Figure size 432x288 with 1 Axes>"
      ]
     },
     "metadata": {
      "needs_background": "light"
     },
     "output_type": "display_data"
    }
   ],
   "source": [
    "# 绘制机器人路径\n",
    "import matplotlib.pyplot as plt\n",
    "import os\n",
    "def plot_path(env, path, filename):\n",
    "    grid = np.zeros((env.size, env.size))\n",
    "    for (i, j) in path:\n",
    "        grid[i, j] = 0.5\n",
    "    grid[env.size-1, env.size-1] = 1  # 终点标记为1\n",
    "\n",
    "    plt.imshow(grid, cmap='Greys', interpolation='none')\n",
    "    plt.gca().invert_yaxis()\n",
    "\n",
    "    for (i, j) in path:\n",
    "        plt.text(j, i, 'o', ha='center', va='center', color='blue', fontsize=12)\n",
    "    \n",
    "    plt.text(env.size-1, env.size-1, 'G', ha='center', va='center', color='red', fontsize=12)\n",
    "    \n",
    "    plt.title('Robot Path in Grid World')\n",
    "    plt.savefig(filename)\n",
    "    plt.show()\n",
    "\n",
    "filename = \"robot_move.png\"\n",
    "output_dir = os.getcwd()\n",
    "os.path.join(output_dir, filename) # Absolute path\n",
    "plot_path(env, path, filename)\n"
   ]
  }
 ],
 "metadata": {
  "kernelspec": {
   "display_name": "Python 3",
   "language": "python",
   "name": "python3"
  },
  "language_info": {
   "codemirror_mode": {
    "name": "ipython",
    "version": 3
   },
   "file_extension": ".py",
   "mimetype": "text/x-python",
   "name": "python",
   "nbconvert_exporter": "python",
   "pygments_lexer": "ipython3",
   "version": "3.10.12"
  }
 },
 "nbformat": 4,
 "nbformat_minor": 2
}
