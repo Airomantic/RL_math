{
 "cells": [
  {
   "cell_type": "code",
   "execution_count": 13,
   "metadata": {},
   "outputs": [],
   "source": [
    "# https://www.bilibili.com/video/BV1AY4y157yL/?spm_id_from=333.337.search-card.all.click&vd_source=7ec37e0102e569b338b488a56e00d1c9\n",
    "def build_next(patt):\n",
    "\n",
    "    next = [0]   # 初始化next的第一个元素是0，书本上喜欢记为 -1\n",
    "    prefix_len = 0    # \"当前\"共同前后缀的 长度\n",
    "    i = 1  # 注意了，这里直接从第二个元素来计算next记录\n",
    "    while i < len(patt):\n",
    "        if patt[prefix_len] == patt[i]:\n",
    "            prefix_len += 1\n",
    "            next.append(prefix_len)\n",
    "            i += 1\n",
    "        else:\n",
    "            if prefix_len == 0:\n",
    "                next.append(0)\n",
    "                i += 1\n",
    "            else:\n",
    "                prefix_len = next[prefix_len - 1]   # 关键点：当已经匹配后缀串中有新开头匹配的字母，后缀新开头字母对应next记录可以找根据前缀对应next记录快速进行加减记录\n",
    "    \n",
    "    return next\n",
    "\n"
   ]
  },
  {
   "cell_type": "code",
   "execution_count": 16,
   "metadata": {},
   "outputs": [
    {
     "name": "stdout",
     "output_type": "stream",
     "text": [
      "Pattern found at index 13\n"
     ]
    }
   ],
   "source": [
    "def kmp_search(string, patt):\n",
    "    next = build_next(patt)\n",
    "\n",
    "    i = 0\n",
    "    j = 0\n",
    "    while i < len(string):\n",
    "        if string[i] == patt[j]:\n",
    "            i += 1\n",
    "            j += 1\n",
    "        elif j > 0:\n",
    "            j = next[j - 1]  # 断点调试：第一次匹配失败后 j = next[5 - 1] = 2 \n",
    "        else:\n",
    "            i += 1   # next[5] = 0 , 失败处越过0字符，所以从text[6]开始寻找新的匹配\n",
    "\n",
    "        if j == len(patt):\n",
    "            return True, i - j\n",
    "        \n",
    "\n",
    "# 断点调试终端输入配置：https://github.com/Airomantic/leetcodeForDeepLearning/blob/main/.vscode/launch.json\n",
    "# 示例\n",
    "text = \"abaabaabacacaabaabcc\"\n",
    "pattern = \"abaabc\"\n",
    "is_match, start_index = kmp_search(text, pattern)\n",
    "if is_match:\n",
    "    print(f\"Pattern found at index {start_index}\")\n",
    "else:\n",
    "    print(\"Pattern not found\")"
   ]
  }
 ],
 "metadata": {
  "kernelspec": {
   "display_name": "base",
   "language": "python",
   "name": "python3"
  },
  "language_info": {
   "codemirror_mode": {
    "name": "ipython",
    "version": 3
   },
   "file_extension": ".py",
   "mimetype": "text/x-python",
   "name": "python",
   "nbconvert_exporter": "python",
   "pygments_lexer": "ipython3",
   "version": "3.12.4"
  }
 },
 "nbformat": 4,
 "nbformat_minor": 2
}
